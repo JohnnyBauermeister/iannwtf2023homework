{
  "nbformat": 4,
  "nbformat_minor": 0,
  "metadata": {
    "colab": {
      "provenance": []
    },
    "kernelspec": {
      "name": "python3",
      "display_name": "Python 3"
    },
    "language_info": {
      "name": "python"
    }
  },
  "cells": [
    {
      "cell_type": "code",
      "execution_count": 26,
      "metadata": {
        "id": "_a-qxwv1FB3C"
      },
      "outputs": [],
      "source": [
        "import numpy as np\n",
        "import tensorflow_datasets as tfds\n",
        "import tensorflow as tf\n",
        "import matplotlib.pyplot as plt"
      ]
    },
    {
      "cell_type": "code",
      "source": [
        "train_ds, test_ds= tfds.load('mnist', split =['train', 'test'], as_supervised = True)"
      ],
      "metadata": {
        "id": "eZhcQwwZFM6h"
      },
      "execution_count": 27,
      "outputs": []
    },
    {
      "cell_type": "code",
      "source": [
        "def prepare_dataset(mnist):\n",
        "  mnist = mnist.map(lambda img, target: (tf.reshape(img, (-1,)), target))\n",
        "  mnist = mnist.map(lambda img, target: (tf.cast(img, tf.float32), target))\n",
        "  mnist = mnist.map(lambda img, target: ((img/128)-1, target))\n",
        "  mnist = mnist.map(lambda img, target: (img, tf.one_hot(target, depth = 10)))\n",
        "\n",
        "  mnist = mnist.cache()\n",
        "  mnist = mnist.shuffle(1024)\n",
        "  mnist = mnist.batch(64)\n",
        "  mnist = mnist.prefetch(20)\n",
        "\n",
        "  return mnist"
      ],
      "metadata": {
        "id": "58EcnY-lFp1Y"
      },
      "execution_count": 28,
      "outputs": []
    },
    {
      "cell_type": "code",
      "source": [
        "train_ds = train_ds.apply(prepare_dataset)\n",
        "test_ds = test_ds.apply(prepare_dataset)"
      ],
      "metadata": {
        "id": "szaxsS1lYMxC"
      },
      "execution_count": 29,
      "outputs": []
    },
    {
      "cell_type": "code",
      "source": [
        "#Model creation via Subclassing from tf.keras.Model\n",
        "class MLP_Model(tf.keras.Model):\n",
        "  def __init__(self, layer_sizes, output_size=10):\n",
        "    super().__init__()\n",
        "    self.mlp_layers = []\n",
        "    #layer_sizes e.g. [256, 256]\n",
        "    for layer_size in layer_sizes:\n",
        "      new_layer = tf.keras.layers.Dense(units=layer_size, activation='sigmoid')\n",
        "      self.mlp_layers.append(new_layer)\n",
        "    self.output_layer = tf.keras.layers.Dense(units=output_size, activation='softmax')\n",
        "\n",
        "  def call(self, x):\n",
        "    for layer in self.mlp_layers:\n",
        "      x = layer(x)\n",
        "    y = self.output_layer(x)\n",
        "    return y"
      ],
      "metadata": {
        "id": "GCYV6OCdIQWp"
      },
      "execution_count": 30,
      "outputs": []
    },
    {
      "cell_type": "code",
      "source": [
        "def training_loop(nr_epochs, model, training_set, test_ds, loss_func, optimizer, train_loss, train_acc, test_loss, test_acc,):\n",
        "\n",
        "  for epoch in range(nr_epochs):\n",
        "    training_losses_agg = []\n",
        "    test_loss_agg = []\n",
        "    test_acc_agg = []\n",
        "    train_acc_agg = []\n",
        "    for (x, y) in training_set:\n",
        "      with tf.GradientTape() as tape:\n",
        "        prediction = model(x)\n",
        "        loss = loss_func(y, prediction)\n",
        "      gradients = tape.gradient(loss, model.variables)\n",
        "      optimizer.apply_gradients(zip(gradients, model.variables))\n",
        "      train_acc_sample = np.argmax(y, axis = 1) == np.argmax(prediction, axis = 1)\n",
        "      train_acc_agg.append(np.mean(train_acc_sample)) #mean bc of batch\n",
        "      training_losses_agg.append(loss.numpy())\n",
        "\n",
        "    for (x, y) in test_ds:\n",
        "      pred = model(x)\n",
        "      test_loss_sample = loss_func(y, pred)\n",
        "      test_acc_sample = np.argmax(y, axis = 1) == np.argmax(pred, axis = 1)\n",
        "      test_loss_agg.append(test_loss_sample.numpy())\n",
        "      test_acc_agg.append(np.mean(test_acc_sample)) #mean bc of batch\n",
        "\n",
        "    train_loss[epoch] = np.mean(training_losses_agg)\n",
        "    train_acc[epoch] = np.mean(train_acc_agg)\n",
        "    test_loss[epoch] = np.mean(test_loss_agg)\n",
        "    test_acc[epoch] = np.mean(test_acc_agg)\n",
        "\n",
        "  return train_loss, train_acc, test_loss, test_acc"
      ],
      "metadata": {
        "id": "XdUsCBKKgDog"
      },
      "execution_count": 31,
      "outputs": []
    },
    {
      "cell_type": "code",
      "source": [
        "def test_acc(model, test_ds, loss_func):\n",
        "  test_loss_agg = []\n",
        "  test_acc_agg = []\n",
        "  for (x, y) in test_ds:\n",
        "    pred = model(x)\n",
        "    test_loss_sample = loss_func(y, pred)\n",
        "    test_acc_sample = np.argmax(y, axis = 1) == np.argmax(pred, axis = 1)\n",
        "    test_loss_agg.append(test_loss_sample.numpy())\n",
        "    test_acc_agg.append(np.mean(test_acc_sample)) #mean bc of batch\n",
        "\n",
        "  test_loss = tf.reduce_mean(test_loss_agg)\n",
        "  test_acc = tf.reduce_mean(test_acc_agg)\n",
        "  return test_loss, test_acc"
      ],
      "metadata": {
        "id": "oVPQS_1pWs4w"
      },
      "execution_count": 32,
      "outputs": []
    },
    {
      "cell_type": "code",
      "source": [
        "my_network = MLP_Model([784,256], 10)\n",
        "learning_rate = 0.05\n",
        "epochs = 6\n",
        "cce = tf.keras.losses.CategoricalCrossentropy()\n",
        "optimizer = tf.keras.optimizers.legacy.SGD(learning_rate)\n",
        "train_loss = np.zeros(epochs)\n",
        "test_loss = np.zeros(epochs)\n",
        "test_acc = np.zeros(epochs)\n",
        "train_acc = np.zeros(epochs)\n",
        "\n",
        "train_loss, train_acc, test_loss, test_acc = training_loop(epochs, my_network, train_ds, test_ds, cce, optimizer, train_loss, test_acc, test_loss, test_acc)"
      ],
      "metadata": {
        "id": "HPga4UASiT8B"
      },
      "execution_count": 33,
      "outputs": []
    },
    {
      "cell_type": "code",
      "source": [
        "print(test_acc)"
      ],
      "metadata": {
        "colab": {
          "base_uri": "https://localhost:8080/"
        },
        "id": "3171Y-5Qb8kv",
        "outputId": "2e836c2a-ee4a-4696-baca-22fd133622a6"
      },
      "execution_count": 37,
      "outputs": [
        {
          "output_type": "stream",
          "name": "stdout",
          "text": [
            "[0.88017516 0.90047771 0.91052946 0.91301752 0.91669984 0.92177548]\n"
          ]
        }
      ]
    },
    {
      "cell_type": "code",
      "source": [
        "def visualization (train_losses ,train_accuracies, test_losses , test_accuracies):\n",
        "    fig = plt.figure()\n",
        "    training_steps = np.arange(train_losses.shape[0])\n",
        "    line1, = plt.plot(training_steps, train_losses , \"b-\")\n",
        "    line2, = plt.plot(training_steps, test_losses , \"r-\")\n",
        "    line3, = plt.plot (training_steps, train_accuracies , \"b:\")\n",
        "    line4, = plt.plot(training_steps, test_accuracies , \"r:\")\n",
        "    plt.xlabel(\" Training steps \")\n",
        "    plt.ylabel(\" Loss / Accuracy \")\n",
        "    plt.legend((line1 , line2, line3 , line4 ) , (\" training loss \", \"test loss\", \"train accuracies\", \" test accuracies \"))\n",
        "    plt.show()"
      ],
      "metadata": {
        "id": "DQvjZEQTfLJE"
      },
      "execution_count": 35,
      "outputs": []
    },
    {
      "cell_type": "code",
      "source": [
        "visualization(train_loss, train_acc, test_loss, test_acc)"
      ],
      "metadata": {
        "colab": {
          "base_uri": "https://localhost:8080/",
          "height": 449
        },
        "id": "z69LTAJfhQS7",
        "outputId": "844a7481-107c-4e06-b4c8-ae6c626bbc0c"
      },
      "execution_count": 36,
      "outputs": [
        {
          "output_type": "display_data",
          "data": {
            "text/plain": [
              "<Figure size 640x480 with 1 Axes>"
            ],
            "image/png": "[encoded data removed]"
          },
          "metadata": {}
        }
      ]
    },
    {
      "cell_type": "markdown",
      "source": [
        "Observations:\n",
        "1. Model performs even better when one layer is taken away so only one hidden layer of 256. The test acc is already significant high after 3 epochs.\n",
        "\n",
        "2.A learning rate of 0.1 seems also to work with the same but faster result\n",
        "\n",
        "3.A learning rate of 1 seems to still work which is surprising. I would have imagined the model to miss the optimal weights.\n",
        "\n",
        "4. A Batch of 64 instead of 32 and a learning rate of 0.05 again results in a smaller test accuracy (0.92 vs 0.96 before), but computes much faster."
      ],
      "metadata": {
        "id": "L7X9NhcC2fwp"
      }
    }
  ]
}